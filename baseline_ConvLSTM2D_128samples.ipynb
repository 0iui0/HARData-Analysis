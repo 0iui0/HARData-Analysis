{
  "nbformat": 4,
  "nbformat_minor": 0,
  "metadata": {
    "kernelspec": {
      "display_name": "Python 3",
      "language": "python",
      "name": "python3"
    },
    "language_info": {
      "codemirror_mode": {
        "name": "ipython",
        "version": 3
      },
      "file_extension": ".py",
      "mimetype": "text/x-python",
      "name": "python",
      "nbconvert_exporter": "python",
      "pygments_lexer": "ipython3",
      "version": "3.6.9"
    },
    "colab": {
      "name": "baseline-ConvLSTM2D-128samples.ipynb",
      "provenance": [],
      "collapsed_sections": []
    },
    "accelerator": "TPU"
  },
  "cells": [
    {
      "cell_type": "markdown",
      "metadata": {
        "id": "GqC6eu9lxKsA"
      },
      "source": [
        "# 导入包"
      ]
    },
    {
      "cell_type": "code",
      "metadata": {
        "id": "wQq9lVRDxKsE"
      },
      "source": [
        "import numpy as np\n",
        "import pandas as pd\n",
        "\n",
        "import lightgbm as lgb\n",
        "from scipy.stats import skew\n",
        "from scipy.stats import kurtosis\n",
        "from scipy.stats import mode\n",
        "\n",
        "from tqdm import tqdm\n",
        "from sklearn.model_selection import StratifiedKFold\n",
        "from collections import Counter\n",
        "from sklearn.metrics import f1_score, precision_score, recall_score, accuracy_score\n",
        "import warnings \n",
        "warnings.filterwarnings(\"ignore\")                                               "
      ],
      "execution_count": null,
      "outputs": []
    },
    {
      "cell_type": "markdown",
      "metadata": {
        "id": "6ONZ4umdxKsU"
      },
      "source": [
        "# 导入数据"
      ]
    },
    {
      "cell_type": "code",
      "metadata": {
        "id": "l-Kl3IRlxKsZ"
      },
      "source": [
        "nrows = None\n",
        "\n",
        "df_train = pd.read_csv('/content/drive/My Drive/Colab Notebooks/sensor_class/sensor_train.csv',sep=',',nrows=nrows)\n",
        "df_test = pd.read_csv('/content/drive/My Drive/Colab Notebooks/sensor_class/sensor_test.csv',sep=',',nrows=nrows)\n",
        "df_submit = pd.read_csv('/content/drive/My Drive/Colab Notebooks/sensor_class/提交结果示例.csv',sep=',',nrows=nrows)\n",
        "\n"
      ],
      "execution_count": null,
      "outputs": []
    },
    {
      "cell_type": "code",
      "metadata": {
        "id": "iNyd-EgeIfQy",
        "colab": {
          "base_uri": "https://localhost:8080/",
          "height": 74
        },
        "outputId": "bda3f2e3-53de-410a-84fa-54c842321ba8"
      },
      "source": [
        "from google.colab import drive\n",
        "drive.mount('/content/drive')"
      ],
      "execution_count": null,
      "outputs": [
        {
          "output_type": "stream",
          "text": [
            "Drive already mounted at /content/drive; to attempt to forcibly remount, call drive.mount(\"/content/drive\", force_remount=True).\n"
          ],
          "name": "stdout"
        }
      ]
    },
    {
      "cell_type": "markdown",
      "metadata": {
        "id": "_Y3PidmtxKsw"
      },
      "source": [
        "# 合并数据"
      ]
    },
    {
      "cell_type": "code",
      "metadata": {
        "id": "r5wg4cjuxKtC"
      },
      "source": [
        "df_train['acc_all'] = (df_train['acc_x'] ** 2 + df_train['acc_y'] ** 2 + df_train['acc_z'] ** 2) ** 0.5\n",
        "df_train['acc_allg'] = (df_train['acc_xg'] ** 2 + df_train['acc_yg'] ** 2 + df_train['acc_zg'] ** 2) ** 0.5"
      ],
      "execution_count": null,
      "outputs": []
    },
    {
      "cell_type": "code",
      "metadata": {
        "id": "QgcnlzTZ2jI5"
      },
      "source": [
        "df_test['acc_all'] = (df_test['acc_x'] ** 2 + df_test['acc_y'] ** 2 + df_test['acc_z'] ** 2) ** 0.5\n",
        "df_test['acc_allg'] = (df_test['acc_xg'] ** 2 + df_test['acc_yg'] ** 2 + df_test['acc_zg'] ** 2) ** 0.5"
      ],
      "execution_count": null,
      "outputs": []
    },
    {
      "cell_type": "markdown",
      "metadata": {
        "id": "Oioxg8JLxKtZ"
      },
      "source": [
        "# 数据聚合"
      ]
    },
    {
      "cell_type": "code",
      "metadata": {
        "id": "KAtv3wMsbL4d"
      },
      "source": [
        "\n",
        "y=df_train.groupby('fragment_id')['behavior_id'].min()"
      ],
      "execution_count": null,
      "outputs": []
    },
    {
      "cell_type": "code",
      "metadata": {
        "id": "so4PcqvazOdy",
        "colab": {
          "base_uri": "https://localhost:8080/",
          "height": 51
        },
        "outputId": "fb6f4ac0-bb62-434d-cdb7-851f2f0f4981"
      },
      "source": [
        "\n",
        "from scipy.signal import resample\n",
        "\n",
        "\n",
        "\n",
        "x = np.zeros((7292, 60, 8, 1))\n",
        "t = np.zeros((7500, 60, 8, 1))\n",
        "for i in tqdm(range(7292)):\n",
        "  tmp = df_train[df_train.fragment_id == i][:60]\n",
        "  # tmp['time_diff']=tmp['time_point'].diff(periods=1).fillna(0)\n",
        "  # tmp['v_x']=tmp['acc_x']*tmp['time_diff']\n",
        "  # tmp['v_y']=tmp['acc_y']*tmp['time_diff']\n",
        "  # tmp['v_z']=tmp['acc_z']*tmp['time_diff']\n",
        "  # tmp['v_xg']=tmp['acc_xg']*tmp['time_diff']\n",
        "  # tmp['v_yg']=tmp['acc_yg']*tmp['time_diff']\n",
        "  # tmp['v_zg']=tmp['acc_zg']*tmp['time_diff']\n",
        "  x[i,:,:, 0] = resample(tmp.drop(['fragment_id', 'time_point', 'behavior_id'],\n",
        "                                    axis=1), 60, np.array(tmp.time_point))[0]\n",
        "for i in tqdm(range(7500)):\n",
        "  tmp = df_test[df_test.fragment_id == i][:60]\n",
        "  # tmp['time_diff']=tmp['time_point'].diff(periods=1).dropna()\n",
        "  # tmp['v_x']=tmp['acc_x']*tmp['time_diff']  \n",
        "  # tmp['v_y']=tmp['acc_y']*tmp['time_diff']\n",
        "  # tmp['v_z']=tmp['acc_z']*tmp['time_diff']  \n",
        "  # tmp['v_xg']=tmp['acc_xg']*tmp['time_diff'] \n",
        "  # tmp['v_yg']=tmp['acc_yg']*tmp['time_diff']\n",
        "  # tmp['v_zg']=tmp['acc_zg']*tmp['time_diff']       \n",
        "  t[i,:,:, 0] = resample(tmp.drop(['fragment_id', 'time_point'],\n",
        "                                    axis=1), 60, np.array(tmp.time_point))[0]\n"
      ],
      "execution_count": null,
      "outputs": [
        {
          "output_type": "stream",
          "text": [
            "100%|██████████| 7292/7292 [00:15<00:00, 468.35it/s]\n",
            "100%|██████████| 7500/7500 [00:15<00:00, 470.25it/s]\n"
          ],
          "name": "stderr"
        }
      ]
    },
    {
      "cell_type": "markdown",
      "metadata": {
        "id": "I_0EascOxKuF"
      },
      "source": [
        "# 模型训练 "
      ]
    },
    {
      "cell_type": "code",
      "metadata": {
        "id": "FFnVLzwVxKuL"
      },
      "source": [
        "import os\n",
        "import tensorflow as tf\n",
        "from numpy import mean\n",
        "from numpy import std\n",
        "from numpy import dstack\n",
        "from pandas import read_csv\n",
        "from tensorflow.keras import layers\n",
        "from tensorflow.keras.utils import to_categorical\n",
        "from matplotlib import pyplot"
      ],
      "execution_count": null,
      "outputs": []
    },
    {
      "cell_type": "code",
      "metadata": {
        "id": "t32e9rs6xKuS"
      },
      "source": [
        "X = x\n",
        "X_test = t"
      ],
      "execution_count": null,
      "outputs": []
    },
    {
      "cell_type": "code",
      "metadata": {
        "id": "svWan6Ge-oOy"
      },
      "source": [
        "y=df_train.groupby('fragment_id')['behavior_id'].min()"
      ],
      "execution_count": null,
      "outputs": []
    },
    {
      "cell_type": "code",
      "metadata": {
        "id": "Rm5KVdkwCum5",
        "colab": {
          "base_uri": "https://localhost:8080/",
          "height": 34
        },
        "outputId": "2a15cfd6-df80-4942-f6b0-351e7ffd20dd"
      },
      "source": [
        "X.shape"
      ],
      "execution_count": null,
      "outputs": [
        {
          "output_type": "execute_result",
          "data": {
            "text/plain": [
              "(7292, 60, 8, 1)"
            ]
          },
          "metadata": {
            "tags": []
          },
          "execution_count": 11
        }
      ]
    },
    {
      "cell_type": "markdown",
      "metadata": {
        "id": "6TVaLTVXxKvZ"
      },
      "source": [
        "# LSTM"
      ]
    },
    {
      "cell_type": "code",
      "metadata": {
        "id": "5bFCEjxXxKvb"
      },
      "source": [
        "df_train_stacking = pd.DataFrame(np.zeros((X.shape[0],19)))\n",
        "df_test_stacking = pd.DataFrame(np.zeros((X_test.shape[0],19)))"
      ],
      "execution_count": null,
      "outputs": []
    },
    {
      "cell_type": "code",
      "metadata": {
        "id": "LepByhKaxKvh"
      },
      "source": [
        "seed = 2020\n",
        "folds = 15\n",
        "kfold = StratifiedKFold(n_splits=folds, shuffle=True, random_state=seed)\n",
        "proba_t = np.zeros((7500, 19))"
      ],
      "execution_count": null,
      "outputs": []
    },
    {
      "cell_type": "code",
      "metadata": {
        "id": "ERZrt8wwxWIa",
        "colab": {
          "base_uri": "https://localhost:8080/",
          "height": 94
        },
        "outputId": "30a1c22d-a7a1-4008-99fe-2fc031c004ce"
      },
      "source": [
        "layers"
      ],
      "execution_count": null,
      "outputs": [
        {
          "output_type": "execute_result",
          "data": {
            "text/plain": [
              "<module 'tensorflow.keras.layers' from '/usr/local/lib/python3.6/dist-packages/tensorflow/keras/layers/__init__.py'>"
            ]
          },
          "metadata": {
            "tags": []
          },
          "execution_count": 14
        }
      ]
    },
    {
      "cell_type": "markdown",
      "metadata": {
        "id": "MdV8sIqZxKvm"
      },
      "source": [
        "# 训练模型"
      ]
    },
    {
      "cell_type": "code",
      "metadata": {
        "id": "m52Y2LBYuDHz",
        "colab": {
          "base_uri": "https://localhost:8080/",
          "height": 1000
        },
        "outputId": "b3070621-c29e-4e2b-aeb5-fcd9cedab241"
      },
      "source": [
        "for fold,(train_index, val_index) in enumerate(kfold.split(X, y)):\n",
        "  print('--------------- begin ---------------',fold)\n",
        "  X_train, X_val = np.array(list(X[train_index])), np.array(list(X[val_index]))\n",
        "  y_train, y_val = np.array(list(y[train_index])), np.array(list(y[val_index]))\n",
        "    # one hot encode y\n",
        "  y_train = to_categorical(y_train)\n",
        "  y_val = to_categorical(y_val)\n",
        "     \n",
        "    # define model\n",
        "  verbose, epochs, batch_size = 1, 20, 1024\n",
        "  n_timesteps, n_features, n_outputs = X_train.shape[1], X_train.shape[2], y_train.shape[1]\n",
        "  # reshape into subsequences (samples, time steps, rows, cols, channels)\n",
        "  n_steps, n_length = 4, 15\n",
        "  X_train = X_train.reshape((X_train.shape[0], n_steps, 1, n_length, n_features))\n",
        "  X_val = X_val.reshape((X_val.shape[0], n_steps, 1, n_length, n_features))\n",
        " \n",
        "  X_test = np.array(list(X_test))\n",
        "  X_test = X_test.reshape((X_test.shape[0], n_steps, 1, n_length, n_features))\n",
        "  # define model\n",
        "  model = tf.keras.Sequential()\n",
        "  model.add(layers.Bidirectional(layers.ConvLSTM2D(filters=64, kernel_size=(1,4), activation='relu', input_shape=(n_steps, 1, n_length, n_features), return_sequences=True)))\n",
        "  \n",
        "  model.add(layers.Bidirectional(layers.ConvLSTM2D(filters=128, kernel_size=(1,2), activation='relu')))\n",
        " \n",
        "  \n",
        "  \n",
        "# model.add(layers.BatchNormalizration())\n",
        " \n",
        "  model.add(layers.Dropout(0.6))\n",
        "  model.add(layers.Flatten())\n",
        "  model.add(layers.Dense(100, activation='relu'))\n",
        "  model.add(layers.Dense(n_outputs, activation='softmax'))\n",
        "  # fit network\n",
        "  model.compile(loss='categorical_crossentropy', optimizer='adam', metrics=['accuracy'])\n",
        " \n",
        "  plateau = tf.keras.callbacks.ReduceLROnPlateau(monitor=\"val_accuracy\",\n",
        "                              verbose=0,\n",
        "                              mode='max',\n",
        "                              factor=0.1,\n",
        "                              patience=6)\n",
        "  early_stopping = tf.keras.callbacks.EarlyStopping(monitor='val_accuracy',\n",
        "                                  verbose=0,\n",
        "                                  mode='max',\n",
        "                                  patience=10)\n",
        "  checkpoint = tf.keras.callbacks.ModelCheckpoint(f'./fold{fold}.h5',\n",
        "                                monitor='val_accuracy',\n",
        "                                verbose=0,\n",
        "                                mode='max',\n",
        "                                save_weights_only=True,\n",
        "                                save_best_only=True)\n",
        "  # model.summary()\n",
        " \n",
        "  if os.path.exists(f'./fold{fold}.h5'):\n",
        "      print('-------------load the model-----------------')\n",
        "      model.load_weights(f'./fold{fold}.h5')\n",
        " \n",
        " \n",
        "  history=model.fit(X_train, y_train, \n",
        "            epochs=epochs, \n",
        "            batch_size=batch_size, \n",
        "            verbose=verbose,\n",
        "            validation_data=(X_val, y_val),\n",
        "            callbacks=[plateau, early_stopping, checkpoint])\n",
        "  # evaluate modelg \n",
        "  X_val_predict = model.predict(X_val)\n",
        "  X_test_predict = model.predict(X_test)\n",
        "    \n",
        "  df_train_stacking.loc[val_index,:] = X_val_predict\n",
        "  df_test_stacking[:] += X_test_predict / folds\n",
        "  proba_t += model.predict(X_test, verbose=0, batch_size=1024) / 5.\n",
        "\n",
        "  print('--------------- end ---------------')"
      ],
      "execution_count": null,
      "outputs": [
        {
          "output_type": "stream",
          "text": [
            "--------------- begin --------------- 0\n",
            "Epoch 1/20\n",
            "7/7 [==============================] - 32s 5s/step - loss: 2.7695 - accuracy: 0.1315 - val_loss: 2.4772 - val_accuracy: 0.2115 - lr: 0.0010\n",
            "Epoch 2/20\n",
            "7/7 [==============================] - 31s 4s/step - loss: 2.3902 - accuracy: 0.2533 - val_loss: 2.1852 - val_accuracy: 0.2731 - lr: 0.0010\n",
            "Epoch 3/20\n",
            "7/7 [==============================] - 31s 4s/step - loss: 2.1164 - accuracy: 0.3199 - val_loss: 2.0148 - val_accuracy: 0.3244 - lr: 0.0010\n",
            "Epoch 4/20\n",
            "7/7 [==============================] - 31s 4s/step - loss: 1.9316 - accuracy: 0.3661 - val_loss: 1.9044 - val_accuracy: 0.3963 - lr: 0.0010\n",
            "Epoch 5/20\n",
            "7/7 [==============================] - 31s 4s/step - loss: 1.8236 - accuracy: 0.3916 - val_loss: 1.7926 - val_accuracy: 0.4292 - lr: 0.0010\n",
            "Epoch 6/20\n",
            "7/7 [==============================] - 31s 4s/step - loss: 1.7263 - accuracy: 0.4091 - val_loss: 1.7501 - val_accuracy: 0.4271 - lr: 0.0010\n",
            "Epoch 7/20\n",
            "7/7 [==============================] - 31s 4s/step - loss: 1.6582 - accuracy: 0.4245 - val_loss: 1.7165 - val_accuracy: 0.4271 - lr: 0.0010\n",
            "Epoch 8/20\n",
            "7/7 [==============================] - 31s 4s/step - loss: 1.6038 - accuracy: 0.4356 - val_loss: 1.6646 - val_accuracy: 0.4435 - lr: 0.0010\n",
            "Epoch 9/20\n",
            "7/7 [==============================] - 31s 4s/step - loss: 1.5532 - accuracy: 0.4561 - val_loss: 1.6687 - val_accuracy: 0.4702 - lr: 0.0010\n",
            "Epoch 10/20\n",
            "7/7 [==============================] - 31s 4s/step - loss: 1.5233 - accuracy: 0.4639 - val_loss: 1.6471 - val_accuracy: 0.4251 - lr: 0.0010\n",
            "Epoch 11/20\n",
            "7/7 [==============================] - 31s 4s/step - loss: 1.5420 - accuracy: 0.4607 - val_loss: 1.6464 - val_accuracy: 0.4415 - lr: 0.0010\n",
            "Epoch 12/20\n",
            "7/7 [==============================] - 31s 4s/step - loss: 1.4765 - accuracy: 0.4776 - val_loss: 1.5879 - val_accuracy: 0.4620 - lr: 0.0010\n",
            "Epoch 13/20\n",
            "7/7 [==============================] - 31s 4s/step - loss: 1.4277 - accuracy: 0.4968 - val_loss: 1.6340 - val_accuracy: 0.4641 - lr: 0.0010\n",
            "Epoch 14/20\n",
            "7/7 [==============================] - 31s 4s/step - loss: 1.4236 - accuracy: 0.4971 - val_loss: 1.5382 - val_accuracy: 0.4476 - lr: 0.0010\n",
            "Epoch 15/20\n",
            "7/7 [==============================] - 31s 4s/step - loss: 1.3796 - accuracy: 0.5036 - val_loss: 1.5767 - val_accuracy: 0.4908 - lr: 0.0010\n",
            "Epoch 16/20\n",
            "7/7 [==============================] - 31s 4s/step - loss: 1.3495 - accuracy: 0.5181 - val_loss: 1.5246 - val_accuracy: 0.5175 - lr: 0.0010\n",
            "Epoch 17/20\n",
            "7/7 [==============================] - 31s 4s/step - loss: 1.3120 - accuracy: 0.5333 - val_loss: 1.5357 - val_accuracy: 0.4990 - lr: 0.0010\n",
            "Epoch 18/20\n",
            "7/7 [==============================] - 31s 4s/step - loss: 1.3128 - accuracy: 0.5264 - val_loss: 1.5303 - val_accuracy: 0.5236 - lr: 0.0010\n",
            "Epoch 19/20\n",
            "7/7 [==============================] - 31s 4s/step - loss: 1.3161 - accuracy: 0.5290 - val_loss: 1.5047 - val_accuracy: 0.5216 - lr: 0.0010\n",
            "Epoch 20/20\n",
            "7/7 [==============================] - 34s 5s/step - loss: 1.2753 - accuracy: 0.5487 - val_loss: 1.4365 - val_accuracy: 0.5195 - lr: 0.0010\n",
            "--------------- end ---------------\n",
            "--------------- begin --------------- 1\n",
            "Epoch 1/20\n",
            "7/7 [==============================] - 32s 5s/step - loss: 2.7678 - accuracy: 0.1414 - val_loss: 2.4736 - val_accuracy: 0.2156 - lr: 0.0010\n",
            "Epoch 2/20\n",
            "7/7 [==============================] - 31s 4s/step - loss: 2.3236 - accuracy: 0.2744 - val_loss: 2.1510 - val_accuracy: 0.3060 - lr: 0.0010\n",
            "Epoch 3/20\n",
            "7/7 [==============================] - 31s 4s/step - loss: 2.0643 - accuracy: 0.3425 - val_loss: 1.9331 - val_accuracy: 0.3388 - lr: 0.0010\n",
            "Epoch 4/20\n",
            "7/7 [==============================] - 31s 4s/step - loss: 1.9120 - accuracy: 0.3611 - val_loss: 1.8062 - val_accuracy: 0.3778 - lr: 0.0010\n",
            "Epoch 5/20\n",
            "7/7 [==============================] - 31s 4s/step - loss: 1.7995 - accuracy: 0.3916 - val_loss: 1.7296 - val_accuracy: 0.3717 - lr: 0.0010\n",
            "Epoch 6/20\n",
            "7/7 [==============================] - 31s 4s/step - loss: 1.7457 - accuracy: 0.4007 - val_loss: 1.6582 - val_accuracy: 0.4148 - lr: 0.0010\n",
            "Epoch 7/20\n",
            "7/7 [==============================] - 31s 4s/step - loss: 1.6827 - accuracy: 0.4148 - val_loss: 1.6098 - val_accuracy: 0.4415 - lr: 0.0010\n",
            "Epoch 8/20\n",
            "7/7 [==============================] - 31s 4s/step - loss: 1.6182 - accuracy: 0.4381 - val_loss: 1.5742 - val_accuracy: 0.4559 - lr: 0.0010\n",
            "Epoch 9/20\n",
            "7/7 [==============================] - 31s 4s/step - loss: 1.5912 - accuracy: 0.4410 - val_loss: 1.5327 - val_accuracy: 0.4579 - lr: 0.0010\n",
            "Epoch 10/20\n",
            "7/7 [==============================] - 31s 4s/step - loss: 1.5520 - accuracy: 0.4473 - val_loss: 1.5129 - val_accuracy: 0.4620 - lr: 0.0010\n",
            "Epoch 11/20\n",
            "7/7 [==============================] - 31s 4s/step - loss: 1.5037 - accuracy: 0.4730 - val_loss: 1.5187 - val_accuracy: 0.4456 - lr: 0.0010\n",
            "Epoch 12/20\n",
            "7/7 [==============================] - 31s 4s/step - loss: 1.4744 - accuracy: 0.4786 - val_loss: 1.5097 - val_accuracy: 0.4579 - lr: 0.0010\n",
            "Epoch 13/20\n",
            "7/7 [==============================] - 31s 4s/step - loss: 1.4601 - accuracy: 0.4868 - val_loss: 1.4736 - val_accuracy: 0.4641 - lr: 0.0010\n",
            "Epoch 14/20\n",
            "7/7 [==============================] - 31s 4s/step - loss: 1.4284 - accuracy: 0.4943 - val_loss: 1.4408 - val_accuracy: 0.4784 - lr: 0.0010\n",
            "Epoch 15/20\n",
            "7/7 [==============================] - 31s 4s/step - loss: 1.3943 - accuracy: 0.5014 - val_loss: 1.3983 - val_accuracy: 0.4764 - lr: 0.0010\n",
            "Epoch 16/20\n",
            "7/7 [==============================] - 32s 5s/step - loss: 1.3598 - accuracy: 0.5196 - val_loss: 1.4019 - val_accuracy: 0.5051 - lr: 0.0010\n",
            "Epoch 17/20\n",
            "7/7 [==============================] - 31s 4s/step - loss: 1.3465 - accuracy: 0.5171 - val_loss: 1.4098 - val_accuracy: 0.4949 - lr: 0.0010\n",
            "Epoch 18/20\n",
            "7/7 [==============================] - 31s 4s/step - loss: 1.3253 - accuracy: 0.5305 - val_loss: 1.3686 - val_accuracy: 0.4887 - lr: 0.0010\n",
            "Epoch 19/20\n",
            "7/7 [==============================] - 31s 4s/step - loss: 1.2909 - accuracy: 0.5374 - val_loss: 1.3942 - val_accuracy: 0.5195 - lr: 0.0010\n",
            "Epoch 20/20\n",
            "7/7 [==============================] - 31s 4s/step - loss: 1.2922 - accuracy: 0.5336 - val_loss: 1.3759 - val_accuracy: 0.4949 - lr: 0.0010\n",
            "--------------- end ---------------\n",
            "--------------- begin --------------- 2\n",
            "Epoch 1/20\n",
            "7/7 [==============================] - 32s 5s/step - loss: 2.8144 - accuracy: 0.1300 - val_loss: 2.5020 - val_accuracy: 0.2593 - lr: 0.0010\n",
            "Epoch 2/20\n",
            "7/7 [==============================] - 31s 4s/step - loss: 2.3906 - accuracy: 0.2579 - val_loss: 2.1816 - val_accuracy: 0.3374 - lr: 0.0010\n",
            "Epoch 3/20\n",
            "7/7 [==============================] - 31s 4s/step - loss: 2.1362 - accuracy: 0.3230 - val_loss: 2.0126 - val_accuracy: 0.3436 - lr: 0.0010\n",
            "Epoch 4/20\n",
            "7/7 [==============================] - 31s 4s/step - loss: 1.9667 - accuracy: 0.3589 - val_loss: 1.8458 - val_accuracy: 0.3642 - lr: 0.0010\n",
            "Epoch 5/20\n",
            "7/7 [==============================] - 31s 4s/step - loss: 1.8379 - accuracy: 0.3764 - val_loss: 1.7169 - val_accuracy: 0.4156 - lr: 0.0010\n",
            "Epoch 6/20\n",
            "7/7 [==============================] - 31s 4s/step - loss: 1.7621 - accuracy: 0.3919 - val_loss: 1.6669 - val_accuracy: 0.4156 - lr: 0.0010\n",
            "Epoch 7/20\n",
            "7/7 [==============================] - 31s 4s/step - loss: 1.6872 - accuracy: 0.4124 - val_loss: 1.5882 - val_accuracy: 0.4506 - lr: 0.0010\n",
            "Epoch 8/20\n",
            "7/7 [==============================] - 31s 4s/step - loss: 1.6447 - accuracy: 0.4246 - val_loss: 1.5705 - val_accuracy: 0.4383 - lr: 0.0010\n",
            "Epoch 9/20\n",
            "7/7 [==============================] - 31s 4s/step - loss: 1.6398 - accuracy: 0.4323 - val_loss: 1.5650 - val_accuracy: 0.4671 - lr: 0.0010\n",
            "Epoch 10/20\n",
            "7/7 [==============================] - 31s 4s/step - loss: 1.5611 - accuracy: 0.4518 - val_loss: 1.5200 - val_accuracy: 0.4609 - lr: 0.0010\n",
            "Epoch 11/20\n",
            "7/7 [==============================] - 34s 5s/step - loss: 1.5184 - accuracy: 0.4611 - val_loss: 1.4897 - val_accuracy: 0.4650 - lr: 0.0010\n",
            "Epoch 12/20\n",
            "7/7 [==============================] - 31s 4s/step - loss: 1.4932 - accuracy: 0.4694 - val_loss: 1.5019 - val_accuracy: 0.4856 - lr: 0.0010\n",
            "Epoch 13/20\n",
            "7/7 [==============================] - 31s 4s/step - loss: 1.4646 - accuracy: 0.4769 - val_loss: 1.4641 - val_accuracy: 0.4959 - lr: 0.0010\n",
            "Epoch 14/20\n",
            "7/7 [==============================] - 31s 4s/step - loss: 1.4428 - accuracy: 0.4881 - val_loss: 1.4395 - val_accuracy: 0.5041 - lr: 0.0010\n",
            "Epoch 15/20\n",
            "7/7 [==============================] - 31s 4s/step - loss: 1.4124 - accuracy: 0.4984 - val_loss: 1.4379 - val_accuracy: 0.5041 - lr: 0.0010\n",
            "Epoch 16/20\n",
            "7/7 [==============================] - 31s 4s/step - loss: 1.3706 - accuracy: 0.5029 - val_loss: 1.3718 - val_accuracy: 0.5165 - lr: 0.0010\n",
            "Epoch 17/20\n",
            "7/7 [==============================] - 31s 4s/step - loss: 1.3489 - accuracy: 0.5192 - val_loss: 1.4251 - val_accuracy: 0.4877 - lr: 0.0010\n",
            "Epoch 18/20\n",
            "7/7 [==============================] - 31s 4s/step - loss: 1.3433 - accuracy: 0.5123 - val_loss: 1.4238 - val_accuracy: 0.4979 - lr: 0.0010\n",
            "Epoch 19/20\n",
            "7/7 [==============================] - 31s 4s/step - loss: 1.3115 - accuracy: 0.5301 - val_loss: 1.3553 - val_accuracy: 0.5000 - lr: 0.0010\n",
            "Epoch 20/20\n",
            "7/7 [==============================] - 31s 4s/step - loss: 1.2629 - accuracy: 0.5401 - val_loss: 1.3360 - val_accuracy: 0.5370 - lr: 0.0010\n",
            "--------------- end ---------------\n",
            "--------------- begin --------------- 3\n",
            "Epoch 1/20\n",
            "7/7 [==============================] - 32s 5s/step - loss: 2.7920 - accuracy: 0.1371 - val_loss: 2.4388 - val_accuracy: 0.2449 - lr: 0.0010\n",
            "Epoch 2/20\n",
            "7/7 [==============================] - 31s 4s/step - loss: 2.3350 - accuracy: 0.2551 - val_loss: 2.1509 - val_accuracy: 0.3148 - lr: 0.0010\n",
            "Epoch 3/20\n",
            "7/7 [==============================] - 31s 4s/step - loss: 2.0932 - accuracy: 0.3278 - val_loss: 1.9661 - val_accuracy: 0.3621 - lr: 0.0010\n",
            "Epoch 4/20\n",
            "7/7 [==============================] - 31s 4s/step - loss: 1.9436 - accuracy: 0.3490 - val_loss: 1.9210 - val_accuracy: 0.3724 - lr: 0.0010\n",
            "Epoch 5/20\n",
            "7/7 [==============================] - 31s 4s/step - loss: 1.8191 - accuracy: 0.3811 - val_loss: 1.7844 - val_accuracy: 0.3745 - lr: 0.0010\n",
            "Epoch 6/20\n",
            "7/7 [==============================] - 31s 4s/step - loss: 1.7372 - accuracy: 0.4048 - val_loss: 1.7552 - val_accuracy: 0.4136 - lr: 0.0010\n",
            "Epoch 7/20\n",
            "7/7 [==============================] - 34s 5s/step - loss: 1.6788 - accuracy: 0.4132 - val_loss: 1.6788 - val_accuracy: 0.4362 - lr: 0.0010\n",
            "Epoch 8/20\n",
            "7/7 [==============================] - 31s 4s/step - loss: 1.6295 - accuracy: 0.4289 - val_loss: 1.6588 - val_accuracy: 0.4218 - lr: 0.0010\n",
            "Epoch 9/20\n",
            "7/7 [==============================] - 31s 4s/step - loss: 1.5784 - accuracy: 0.4439 - val_loss: 1.6247 - val_accuracy: 0.4239 - lr: 0.0010\n",
            "Epoch 10/20\n",
            "7/7 [==============================] - 31s 4s/step - loss: 1.5580 - accuracy: 0.4550 - val_loss: 1.6019 - val_accuracy: 0.4383 - lr: 0.0010\n",
            "Epoch 11/20\n",
            "7/7 [==============================] - 31s 4s/step - loss: 1.5240 - accuracy: 0.4617 - val_loss: 1.5626 - val_accuracy: 0.4342 - lr: 0.0010\n",
            "Epoch 12/20\n",
            "7/7 [==============================] - 31s 4s/step - loss: 1.4987 - accuracy: 0.4672 - val_loss: 1.5890 - val_accuracy: 0.4321 - lr: 0.0010\n",
            "Epoch 13/20\n",
            "7/7 [==============================] - 31s 4s/step - loss: 1.4810 - accuracy: 0.4672 - val_loss: 1.5744 - val_accuracy: 0.4506 - lr: 0.0010\n",
            "Epoch 14/20\n",
            "7/7 [==============================] - 31s 4s/step - loss: 1.4487 - accuracy: 0.4863 - val_loss: 1.5068 - val_accuracy: 0.4630 - lr: 0.0010\n",
            "Epoch 15/20\n",
            "7/7 [==============================] - 31s 4s/step - loss: 1.3996 - accuracy: 0.5019 - val_loss: 1.4827 - val_accuracy: 0.4568 - lr: 0.0010\n",
            "Epoch 16/20\n",
            "7/7 [==============================] - 31s 4s/step - loss: 1.3627 - accuracy: 0.5140 - val_loss: 1.4629 - val_accuracy: 0.4918 - lr: 0.0010\n",
            "Epoch 17/20\n",
            "7/7 [==============================] - 31s 4s/step - loss: 1.3371 - accuracy: 0.5201 - val_loss: 1.4328 - val_accuracy: 0.4897 - lr: 0.0010\n",
            "Epoch 18/20\n",
            "7/7 [==============================] - 31s 4s/step - loss: 1.3172 - accuracy: 0.5278 - val_loss: 1.4217 - val_accuracy: 0.5247 - lr: 0.0010\n",
            "Epoch 19/20\n",
            "7/7 [==============================] - 31s 4s/step - loss: 1.2992 - accuracy: 0.5313 - val_loss: 1.4068 - val_accuracy: 0.5103 - lr: 0.0010\n",
            "Epoch 20/20\n",
            "7/7 [==============================] - 31s 4s/step - loss: 1.2642 - accuracy: 0.5495 - val_loss: 1.4038 - val_accuracy: 0.5062 - lr: 0.0010\n",
            "--------------- end ---------------\n",
            "--------------- begin --------------- 4\n",
            "Epoch 1/20\n",
            "7/7 [==============================] - 32s 5s/step - loss: 2.7274 - accuracy: 0.1530 - val_loss: 2.3904 - val_accuracy: 0.2942 - lr: 0.0010\n",
            "Epoch 2/20\n",
            "7/7 [==============================] - 31s 4s/step - loss: 2.2841 - accuracy: 0.2765 - val_loss: 2.0990 - val_accuracy: 0.3189 - lr: 0.0010\n",
            "Epoch 3/20\n",
            "7/7 [==============================] - 35s 5s/step - loss: 2.0236 - accuracy: 0.3422 - val_loss: 1.9263 - val_accuracy: 0.3704 - lr: 0.0010\n",
            "Epoch 4/20\n",
            "7/7 [==============================] - 31s 4s/step - loss: 1.8530 - accuracy: 0.3725 - val_loss: 1.8949 - val_accuracy: 0.3745 - lr: 0.0010\n",
            "Epoch 5/20\n",
            "7/7 [==============================] - 31s 4s/step - loss: 1.7561 - accuracy: 0.3966 - val_loss: 1.7886 - val_accuracy: 0.4053 - lr: 0.0010\n",
            "Epoch 6/20\n",
            "7/7 [==============================] - 31s 4s/step - loss: 1.6887 - accuracy: 0.4205 - val_loss: 1.7510 - val_accuracy: 0.4053 - lr: 0.0010\n",
            "Epoch 7/20\n",
            "7/7 [==============================] - 31s 4s/step - loss: 1.6044 - accuracy: 0.4442 - val_loss: 1.7078 - val_accuracy: 0.3930 - lr: 0.0010\n",
            "Epoch 8/20\n",
            "7/7 [==============================] - 31s 4s/step - loss: 1.5727 - accuracy: 0.4486 - val_loss: 1.6818 - val_accuracy: 0.4342 - lr: 0.0010\n",
            "Epoch 9/20\n",
            "7/7 [==============================] - 31s 4s/step - loss: 1.5272 - accuracy: 0.4615 - val_loss: 1.6224 - val_accuracy: 0.4280 - lr: 0.0010\n",
            "Epoch 10/20\n",
            "7/7 [==============================] - 31s 4s/step - loss: 1.5129 - accuracy: 0.4578 - val_loss: 1.6359 - val_accuracy: 0.4527 - lr: 0.0010\n",
            "Epoch 11/20\n",
            "7/7 [==============================] - 31s 4s/step - loss: 1.4536 - accuracy: 0.4841 - val_loss: 1.5630 - val_accuracy: 0.4630 - lr: 0.0010\n",
            "Epoch 12/20\n",
            "7/7 [==============================] - 31s 4s/step - loss: 1.4266 - accuracy: 0.4902 - val_loss: 1.5704 - val_accuracy: 0.4691 - lr: 0.0010\n",
            "Epoch 13/20\n",
            "7/7 [==============================] - 31s 4s/step - loss: 1.4028 - accuracy: 0.4993 - val_loss: 1.5802 - val_accuracy: 0.4856 - lr: 0.0010\n",
            "Epoch 14/20\n",
            "7/7 [==============================] - 31s 4s/step - loss: 1.3804 - accuracy: 0.5021 - val_loss: 1.5287 - val_accuracy: 0.4938 - lr: 0.0010\n",
            "Epoch 15/20\n",
            "7/7 [==============================] - 31s 4s/step - loss: 1.3369 - accuracy: 0.5147 - val_loss: 1.5085 - val_accuracy: 0.4877 - lr: 0.0010\n",
            "Epoch 16/20\n",
            "7/7 [==============================] - 31s 4s/step - loss: 1.3101 - accuracy: 0.5266 - val_loss: 1.5053 - val_accuracy: 0.5021 - lr: 0.0010\n",
            "Epoch 17/20\n",
            "7/7 [==============================] - 31s 4s/step - loss: 1.2870 - accuracy: 0.5345 - val_loss: 1.4738 - val_accuracy: 0.5103 - lr: 0.0010\n",
            "Epoch 18/20\n",
            "7/7 [==============================] - 31s 4s/step - loss: 1.2725 - accuracy: 0.5361 - val_loss: 1.4540 - val_accuracy: 0.5247 - lr: 0.0010\n",
            "Epoch 19/20\n",
            "7/7 [==============================] - 31s 4s/step - loss: 1.2301 - accuracy: 0.5547 - val_loss: 1.4499 - val_accuracy: 0.5309 - lr: 0.0010\n",
            "Epoch 20/20\n",
            "7/7 [==============================] - 34s 5s/step - loss: 1.2313 - accuracy: 0.5577 - val_loss: 1.4623 - val_accuracy: 0.5041 - lr: 0.0010\n",
            "--------------- end ---------------\n",
            "--------------- begin --------------- 5\n",
            "Epoch 1/20\n",
            "7/7 [==============================] - 32s 5s/step - loss: 2.7592 - accuracy: 0.1289 - val_loss: 2.4539 - val_accuracy: 0.1831 - lr: 0.0010\n",
            "Epoch 2/20\n",
            "7/7 [==============================] - 31s 4s/step - loss: 2.3916 - accuracy: 0.2167 - val_loss: 2.2111 - val_accuracy: 0.2819 - lr: 0.0010\n",
            "Epoch 3/20\n",
            "7/7 [==============================] - 31s 4s/step - loss: 2.1778 - accuracy: 0.2900 - val_loss: 2.0175 - val_accuracy: 0.3539 - lr: 0.0010\n",
            "Epoch 4/20\n",
            "7/7 [==============================] - 31s 4s/step - loss: 1.9954 - accuracy: 0.3372 - val_loss: 1.8859 - val_accuracy: 0.3519 - lr: 0.0010\n",
            "Epoch 5/20\n",
            "7/7 [==============================] - 31s 4s/step - loss: 1.8822 - accuracy: 0.3592 - val_loss: 1.7989 - val_accuracy: 0.4033 - lr: 0.0010\n",
            "Epoch 6/20\n",
            "7/7 [==============================] - 31s 4s/step - loss: 1.7814 - accuracy: 0.3973 - val_loss: 1.7234 - val_accuracy: 0.3889 - lr: 0.0010\n",
            "Epoch 7/20\n",
            "7/7 [==============================] - 31s 4s/step - loss: 1.6955 - accuracy: 0.4035 - val_loss: 1.6881 - val_accuracy: 0.4074 - lr: 0.0010\n",
            "Epoch 8/20\n",
            "7/7 [==============================] - 31s 4s/step - loss: 1.6361 - accuracy: 0.4224 - val_loss: 1.6298 - val_accuracy: 0.4403 - lr: 0.0010\n",
            "Epoch 9/20\n",
            "7/7 [==============================] - 31s 4s/step - loss: 1.5786 - accuracy: 0.4434 - val_loss: 1.5680 - val_accuracy: 0.4588 - lr: 0.0010\n",
            "Epoch 10/20\n",
            "7/7 [==============================] - 31s 4s/step - loss: 1.5385 - accuracy: 0.4593 - val_loss: 1.5059 - val_accuracy: 0.4733 - lr: 0.0010\n",
            "Epoch 11/20\n",
            "7/7 [==============================] - 31s 4s/step - loss: 1.5017 - accuracy: 0.4624 - val_loss: 1.5012 - val_accuracy: 0.4609 - lr: 0.0010\n",
            "Epoch 12/20\n",
            "7/7 [==============================] - 31s 4s/step - loss: 1.4514 - accuracy: 0.4835 - val_loss: 1.4589 - val_accuracy: 0.4815 - lr: 0.0010\n",
            "Epoch 13/20\n",
            "7/7 [==============================] - 31s 4s/step - loss: 1.4280 - accuracy: 0.4831 - val_loss: 1.3979 - val_accuracy: 0.5309 - lr: 0.0010\n",
            "Epoch 14/20\n",
            "7/7 [==============================] - 31s 4s/step - loss: 1.4131 - accuracy: 0.4850 - val_loss: 1.3933 - val_accuracy: 0.5041 - lr: 0.0010\n",
            "Epoch 15/20\n",
            "7/7 [==============================] - 31s 4s/step - loss: 1.3587 - accuracy: 0.5101 - val_loss: 1.4086 - val_accuracy: 0.4959 - lr: 0.0010\n",
            "Epoch 16/20\n",
            "7/7 [==============================] - 32s 5s/step - loss: 1.3440 - accuracy: 0.5132 - val_loss: 1.3397 - val_accuracy: 0.5391 - lr: 0.0010\n",
            "Epoch 17/20\n",
            "7/7 [==============================] - 31s 4s/step - loss: 1.3014 - accuracy: 0.5275 - val_loss: 1.3204 - val_accuracy: 0.5226 - lr: 0.0010\n",
            "Epoch 18/20\n",
            "7/7 [==============================] - 31s 4s/step - loss: 1.2773 - accuracy: 0.5335 - val_loss: 1.3127 - val_accuracy: 0.5206 - lr: 0.0010\n",
            "Epoch 19/20\n",
            "7/7 [==============================] - 31s 4s/step - loss: 1.2568 - accuracy: 0.5397 - val_loss: 1.2806 - val_accuracy: 0.5514 - lr: 0.0010\n",
            "Epoch 20/20\n",
            "7/7 [==============================] - 31s 4s/step - loss: 1.2410 - accuracy: 0.5478 - val_loss: 1.2619 - val_accuracy: 0.5556 - lr: 0.0010\n",
            "--------------- end ---------------\n",
            "--------------- begin --------------- 6\n",
            "Epoch 1/20\n",
            "7/7 [==============================] - 32s 5s/step - loss: 2.7545 - accuracy: 0.1402 - val_loss: 2.4437 - val_accuracy: 0.2037 - lr: 0.0010\n",
            "Epoch 2/20\n",
            "7/7 [==============================] - 31s 4s/step - loss: 2.3437 - accuracy: 0.2574 - val_loss: 2.1871 - val_accuracy: 0.2901 - lr: 0.0010\n",
            "Epoch 3/20\n",
            "7/7 [==============================] - 31s 4s/step - loss: 2.0844 - accuracy: 0.3166 - val_loss: 1.9859 - val_accuracy: 0.3560 - lr: 0.0010\n",
            "Epoch 4/20\n",
            "7/7 [==============================] - 31s 4s/step - loss: 1.9245 - accuracy: 0.3562 - val_loss: 1.8521 - val_accuracy: 0.3951 - lr: 0.0010\n",
            "Epoch 5/20\n",
            "7/7 [==============================] - 31s 4s/step - loss: 1.8115 - accuracy: 0.3860 - val_loss: 1.7663 - val_accuracy: 0.4280 - lr: 0.0010\n",
            "Epoch 6/20\n",
            "7/7 [==============================] - 31s 4s/step - loss: 1.7333 - accuracy: 0.4007 - val_loss: 1.7155 - val_accuracy: 0.4424 - lr: 0.0010\n",
            "Epoch 7/20\n",
            "7/7 [==============================] - 31s 4s/step - loss: 1.6887 - accuracy: 0.4132 - val_loss: 1.6405 - val_accuracy: 0.4424 - lr: 0.0010\n",
            "Epoch 8/20\n",
            "7/7 [==============================] - 31s 4s/step - loss: 1.6351 - accuracy: 0.4330 - val_loss: 1.6125 - val_accuracy: 0.4630 - lr: 0.0010\n",
            "Epoch 9/20\n",
            "7/7 [==============================] - 31s 4s/step - loss: 1.5858 - accuracy: 0.4430 - val_loss: 1.6006 - val_accuracy: 0.4733 - lr: 0.0010\n",
            "Epoch 10/20\n",
            "7/7 [==============================] - 31s 4s/step - loss: 1.5520 - accuracy: 0.4522 - val_loss: 1.5412 - val_accuracy: 0.4918 - lr: 0.0010\n",
            "Epoch 11/20\n",
            "7/7 [==============================] - 32s 5s/step - loss: 1.5238 - accuracy: 0.4684 - val_loss: 1.5176 - val_accuracy: 0.4918 - lr: 0.0010\n",
            "Epoch 12/20\n",
            "7/7 [==============================] - 31s 4s/step - loss: 1.4739 - accuracy: 0.4765 - val_loss: 1.4544 - val_accuracy: 0.5144 - lr: 0.0010\n",
            "Epoch 13/20\n",
            "7/7 [==============================] - 31s 4s/step - loss: 1.4574 - accuracy: 0.4830 - val_loss: 1.4526 - val_accuracy: 0.4918 - lr: 0.0010\n",
            "Epoch 14/20\n",
            "7/7 [==============================] - 31s 4s/step - loss: 1.4338 - accuracy: 0.4896 - val_loss: 1.4324 - val_accuracy: 0.5370 - lr: 0.0010\n",
            "Epoch 15/20\n",
            "7/7 [==============================] - 31s 4s/step - loss: 1.4108 - accuracy: 0.5013 - val_loss: 1.4606 - val_accuracy: 0.5062 - lr: 0.0010\n",
            "Epoch 16/20\n",
            "7/7 [==============================] - 31s 4s/step - loss: 1.4171 - accuracy: 0.5022 - val_loss: 1.4116 - val_accuracy: 0.5412 - lr: 0.0010\n",
            "Epoch 17/20\n",
            "7/7 [==============================] - 31s 4s/step - loss: 1.3544 - accuracy: 0.5154 - val_loss: 1.3813 - val_accuracy: 0.5288 - lr: 0.0010\n",
            "Epoch 18/20\n",
            "7/7 [==============================] - 31s 4s/step - loss: 1.3230 - accuracy: 0.5182 - val_loss: 1.3074 - val_accuracy: 0.5720 - lr: 0.0010\n",
            "Epoch 19/20\n",
            "7/7 [==============================] - 31s 4s/step - loss: 1.3001 - accuracy: 0.5391 - val_loss: 1.3139 - val_accuracy: 0.5700 - lr: 0.0010\n",
            "Epoch 20/20\n",
            "7/7 [==============================] - 31s 4s/step - loss: 1.2790 - accuracy: 0.5447 - val_loss: 1.2958 - val_accuracy: 0.5514 - lr: 0.0010\n",
            "--------------- end ---------------\n",
            "--------------- begin --------------- 7\n",
            "Epoch 1/20\n",
            "7/7 [==============================] - 32s 5s/step - loss: 2.7385 - accuracy: 0.1546 - val_loss: 2.4859 - val_accuracy: 0.2078 - lr: 0.0010\n",
            "Epoch 2/20\n",
            "7/7 [==============================] - 31s 4s/step - loss: 2.3538 - accuracy: 0.2440 - val_loss: 2.1737 - val_accuracy: 0.2901 - lr: 0.0010\n",
            "Epoch 3/20\n",
            "7/7 [==============================] - 31s 4s/step - loss: 2.0764 - accuracy: 0.3332 - val_loss: 2.0134 - val_accuracy: 0.3477 - lr: 0.0010\n",
            "Epoch 4/20\n",
            "7/7 [==============================] - 31s 4s/step - loss: 1.9309 - accuracy: 0.3638 - val_loss: 1.8584 - val_accuracy: 0.3663 - lr: 0.0010\n",
            "Epoch 5/20\n",
            "7/7 [==============================] - 31s 4s/step - loss: 1.8034 - accuracy: 0.3920 - val_loss: 1.7661 - val_accuracy: 0.4012 - lr: 0.0010\n",
            "Epoch 6/20\n",
            "7/7 [==============================] - 31s 4s/step - loss: 1.7290 - accuracy: 0.4046 - val_loss: 1.6765 - val_accuracy: 0.4198 - lr: 0.0010\n",
            "Epoch 7/20\n",
            "7/7 [==============================] - 34s 5s/step - loss: 1.6708 - accuracy: 0.4252 - val_loss: 1.6122 - val_accuracy: 0.4342 - lr: 0.0010\n",
            "Epoch 8/20\n",
            "7/7 [==============================] - 31s 4s/step - loss: 1.6143 - accuracy: 0.4355 - val_loss: 1.5484 - val_accuracy: 0.4568 - lr: 0.0010\n",
            "Epoch 9/20\n",
            "7/7 [==============================] - 31s 4s/step - loss: 1.5797 - accuracy: 0.4478 - val_loss: 1.5558 - val_accuracy: 0.4630 - lr: 0.0010\n",
            "Epoch 10/20\n",
            "7/7 [==============================] - 31s 4s/step - loss: 1.5397 - accuracy: 0.4540 - val_loss: 1.5250 - val_accuracy: 0.4753 - lr: 0.0010\n",
            "Epoch 11/20\n",
            "7/7 [==============================] - 31s 4s/step - loss: 1.5027 - accuracy: 0.4699 - val_loss: 1.4840 - val_accuracy: 0.4856 - lr: 0.0010\n",
            "Epoch 12/20\n",
            "7/7 [==============================] - 31s 4s/step - loss: 1.4816 - accuracy: 0.4799 - val_loss: 1.4469 - val_accuracy: 0.5041 - lr: 0.0010\n",
            "Epoch 13/20\n",
            "7/7 [==============================] - 31s 4s/step - loss: 1.4505 - accuracy: 0.4940 - val_loss: 1.4502 - val_accuracy: 0.4959 - lr: 0.0010\n",
            "Epoch 14/20\n",
            "7/7 [==============================] - 31s 4s/step - loss: 1.4480 - accuracy: 0.4872 - val_loss: 1.4078 - val_accuracy: 0.5165 - lr: 0.0010\n",
            "Epoch 15/20\n",
            "7/7 [==============================] - 31s 4s/step - loss: 1.4069 - accuracy: 0.4968 - val_loss: 1.3891 - val_accuracy: 0.5391 - lr: 0.0010\n",
            "Epoch 16/20\n",
            "7/7 [==============================] - 31s 4s/step - loss: 1.3679 - accuracy: 0.5103 - val_loss: 1.3579 - val_accuracy: 0.5267 - lr: 0.0010\n",
            "Epoch 17/20\n",
            "7/7 [==============================] - 31s 4s/step - loss: 1.3356 - accuracy: 0.5285 - val_loss: 1.3519 - val_accuracy: 0.5658 - lr: 0.0010\n",
            "Epoch 18/20\n",
            "7/7 [==============================] - 31s 4s/step - loss: 1.3164 - accuracy: 0.5304 - val_loss: 1.3263 - val_accuracy: 0.5473 - lr: 0.0010\n",
            "Epoch 19/20\n",
            "7/7 [==============================] - 31s 4s/step - loss: 1.2833 - accuracy: 0.5406 - val_loss: 1.2971 - val_accuracy: 0.5473 - lr: 0.0010\n",
            "Epoch 20/20\n",
            "7/7 [==============================] - 31s 4s/step - loss: 1.2560 - accuracy: 0.5497 - val_loss: 1.2358 - val_accuracy: 0.5679 - lr: 0.0010\n",
            "--------------- end ---------------\n",
            "--------------- begin --------------- 8\n",
            "Epoch 1/20\n",
            "7/7 [==============================] - 32s 5s/step - loss: 2.7151 - accuracy: 0.1438 - val_loss: 2.3817 - val_accuracy: 0.2695 - lr: 0.0010\n",
            "Epoch 2/20\n",
            "7/7 [==============================] - 31s 4s/step - loss: 2.3042 - accuracy: 0.2645 - val_loss: 1.9991 - val_accuracy: 0.3642 - lr: 0.0010\n",
            "Epoch 3/20\n",
            "7/7 [==============================] - 34s 5s/step - loss: 2.0598 - accuracy: 0.3274 - val_loss: 1.8764 - val_accuracy: 0.3601 - lr: 0.0010\n",
            "Epoch 4/20\n",
            "7/7 [==============================] - 31s 4s/step - loss: 1.8979 - accuracy: 0.3642 - val_loss: 1.7403 - val_accuracy: 0.4033 - lr: 0.0010\n",
            "Epoch 5/20\n",
            "7/7 [==============================] - 31s 4s/step - loss: 1.8038 - accuracy: 0.3930 - val_loss: 1.6512 - val_accuracy: 0.4444 - lr: 0.0010\n",
            "Epoch 6/20\n",
            "7/7 [==============================] - 31s 4s/step - loss: 1.7178 - accuracy: 0.4046 - val_loss: 1.6081 - val_accuracy: 0.4383 - lr: 0.0010\n",
            "Epoch 7/20\n",
            "7/7 [==============================] - 31s 4s/step - loss: 1.6548 - accuracy: 0.4246 - val_loss: 1.5565 - val_accuracy: 0.4506 - lr: 0.0010\n",
            "Epoch 8/20\n",
            "7/7 [==============================] - 31s 4s/step - loss: 1.6120 - accuracy: 0.4311 - val_loss: 1.5028 - val_accuracy: 0.4465 - lr: 0.0010\n",
            "Epoch 9/20\n",
            "7/7 [==============================] - 31s 4s/step - loss: 1.5834 - accuracy: 0.4414 - val_loss: 1.5379 - val_accuracy: 0.4218 - lr: 0.0010\n",
            "Epoch 10/20\n",
            "7/7 [==============================] - 31s 4s/step - loss: 1.5342 - accuracy: 0.4489 - val_loss: 1.4453 - val_accuracy: 0.4691 - lr: 0.0010\n",
            "Epoch 11/20\n",
            "7/7 [==============================] - 31s 4s/step - loss: 1.4693 - accuracy: 0.4747 - val_loss: 1.3967 - val_accuracy: 0.5247 - lr: 0.0010\n",
            "Epoch 12/20\n",
            "7/7 [==============================] - 31s 4s/step - loss: 1.4445 - accuracy: 0.4891 - val_loss: 1.3996 - val_accuracy: 0.5123 - lr: 0.0010\n",
            "Epoch 13/20\n",
            "7/7 [==============================] - 31s 4s/step - loss: 1.4099 - accuracy: 0.4988 - val_loss: 1.3681 - val_accuracy: 0.5041 - lr: 0.0010\n",
            "Epoch 14/20\n",
            "7/7 [==============================] - 31s 4s/step - loss: 1.3658 - accuracy: 0.5132 - val_loss: 1.3385 - val_accuracy: 0.5082 - lr: 0.0010\n",
            "Epoch 15/20\n",
            "7/7 [==============================] - 31s 4s/step - loss: 1.3518 - accuracy: 0.5079 - val_loss: 1.4377 - val_accuracy: 0.4733 - lr: 0.0010\n",
            "Epoch 16/20\n",
            "7/7 [==============================] - 31s 4s/step - loss: 1.3426 - accuracy: 0.5204 - val_loss: 1.3271 - val_accuracy: 0.5370 - lr: 0.0010\n",
            "Epoch 17/20\n",
            "7/7 [==============================] - 31s 4s/step - loss: 1.2900 - accuracy: 0.5301 - val_loss: 1.2945 - val_accuracy: 0.5123 - lr: 0.0010\n",
            "Epoch 18/20\n",
            "7/7 [==============================] - 31s 4s/step - loss: 1.2505 - accuracy: 0.5475 - val_loss: 1.2976 - val_accuracy: 0.5473 - lr: 0.0010\n",
            "Epoch 19/20\n",
            "7/7 [==============================] - 31s 4s/step - loss: 1.2254 - accuracy: 0.5505 - val_loss: 1.2924 - val_accuracy: 0.5432 - lr: 0.0010\n",
            "Epoch 20/20\n",
            "7/7 [==============================] - 35s 5s/step - loss: 1.2468 - accuracy: 0.5436 - val_loss: 1.2864 - val_accuracy: 0.5617 - lr: 0.0010\n",
            "--------------- end ---------------\n",
            "--------------- begin --------------- 9\n",
            "Epoch 1/20\n",
            "7/7 [==============================] - 32s 5s/step - loss: 2.7548 - accuracy: 0.1227 - val_loss: 2.4084 - val_accuracy: 0.2305 - lr: 0.0010\n",
            "Epoch 2/20\n",
            "7/7 [==============================] - 31s 4s/step - loss: 2.3883 - accuracy: 0.2435 - val_loss: 2.1052 - val_accuracy: 0.3333 - lr: 0.0010\n",
            "Epoch 3/20\n",
            "7/7 [==============================] - 31s 4s/step - loss: 2.1066 - accuracy: 0.3194 - val_loss: 1.9233 - val_accuracy: 0.3765 - lr: 0.0010\n",
            "Epoch 4/20\n",
            "7/7 [==============================] - 31s 4s/step - loss: 1.9520 - accuracy: 0.3562 - val_loss: 1.7518 - val_accuracy: 0.4465 - lr: 0.0010\n",
            "Epoch 5/20\n",
            "7/7 [==============================] - 31s 4s/step - loss: 1.8157 - accuracy: 0.3848 - val_loss: 1.6727 - val_accuracy: 0.4342 - lr: 0.0010\n",
            "Epoch 6/20\n",
            "7/7 [==============================] - 31s 4s/step - loss: 1.7361 - accuracy: 0.4004 - val_loss: 1.5802 - val_accuracy: 0.4588 - lr: 0.0010\n",
            "Epoch 7/20\n",
            "7/7 [==============================] - 31s 4s/step - loss: 1.6716 - accuracy: 0.4190 - val_loss: 1.5648 - val_accuracy: 0.4568 - lr: 0.0010\n",
            "Epoch 8/20\n",
            "7/7 [==============================] - 31s 4s/step - loss: 1.6289 - accuracy: 0.4267 - val_loss: 1.5250 - val_accuracy: 0.4547 - lr: 0.0010\n",
            "Epoch 9/20\n",
            "7/7 [==============================] - 31s 4s/step - loss: 1.5714 - accuracy: 0.4439 - val_loss: 1.4720 - val_accuracy: 0.4877 - lr: 0.0010\n",
            "Epoch 10/20\n",
            "7/7 [==============================] - 31s 4s/step - loss: 1.5273 - accuracy: 0.4593 - val_loss: 1.4275 - val_accuracy: 0.4877 - lr: 0.0010\n",
            "Epoch 11/20\n",
            "7/7 [==============================] - 31s 4s/step - loss: 1.4850 - accuracy: 0.4702 - val_loss: 1.3921 - val_accuracy: 0.5000 - lr: 0.0010\n",
            "Epoch 12/20\n",
            "7/7 [==============================] - 31s 4s/step - loss: 1.4537 - accuracy: 0.4805 - val_loss: 1.3375 - val_accuracy: 0.5041 - lr: 0.0010\n",
            "Epoch 13/20\n",
            "7/7 [==============================] - 31s 4s/step - loss: 1.4132 - accuracy: 0.4913 - val_loss: 1.3507 - val_accuracy: 0.5206 - lr: 0.0010\n",
            "Epoch 14/20\n",
            "7/7 [==============================] - 31s 4s/step - loss: 1.3941 - accuracy: 0.5044 - val_loss: 1.3237 - val_accuracy: 0.5082 - lr: 0.0010\n",
            "Epoch 15/20\n",
            "7/7 [==============================] - 31s 4s/step - loss: 1.3808 - accuracy: 0.5087 - val_loss: 1.3155 - val_accuracy: 0.5144 - lr: 0.0010\n",
            "Epoch 16/20\n",
            "7/7 [==============================] - 34s 5s/step - loss: 1.3470 - accuracy: 0.5184 - val_loss: 1.3100 - val_accuracy: 0.5185 - lr: 0.0010\n",
            "Epoch 17/20\n",
            "7/7 [==============================] - 31s 4s/step - loss: 1.3061 - accuracy: 0.5262 - val_loss: 1.2741 - val_accuracy: 0.5370 - lr: 0.0010\n",
            "Epoch 18/20\n",
            "7/7 [==============================] - 31s 4s/step - loss: 1.2718 - accuracy: 0.5382 - val_loss: 1.2510 - val_accuracy: 0.5597 - lr: 0.0010\n",
            "Epoch 19/20\n",
            "7/7 [==============================] - 31s 4s/step - loss: 1.2577 - accuracy: 0.5480 - val_loss: 1.2216 - val_accuracy: 0.5638 - lr: 0.0010\n",
            "Epoch 20/20\n",
            "7/7 [==============================] - 31s 4s/step - loss: 1.2381 - accuracy: 0.5545 - val_loss: 1.2547 - val_accuracy: 0.5638 - lr: 0.0010\n",
            "--------------- end ---------------\n",
            "--------------- begin --------------- 10\n",
            "Epoch 1/20\n",
            "7/7 [==============================] - 31s 4s/step - loss: 2.6859 - accuracy: 0.1713 - val_loss: 2.3019 - val_accuracy: 0.3004 - lr: 0.0010\n",
            "Epoch 2/20\n",
            "7/7 [==============================] - 32s 5s/step - loss: 2.2648 - accuracy: 0.2795 - val_loss: 1.9863 - val_accuracy: 0.3539 - lr: 0.0010\n",
            "Epoch 3/20\n",
            "7/7 [==============================] - 31s 4s/step - loss: 2.0266 - accuracy: 0.3315 - val_loss: 1.8032 - val_accuracy: 0.4095 - lr: 0.0010\n",
            "Epoch 4/20\n",
            "7/7 [==============================] - 31s 4s/step - loss: 1.8625 - accuracy: 0.3697 - val_loss: 1.7003 - val_accuracy: 0.4424 - lr: 0.0010\n",
            "Epoch 5/20\n",
            "7/7 [==============================] - 31s 4s/step - loss: 1.7666 - accuracy: 0.3948 - val_loss: 1.6208 - val_accuracy: 0.4712 - lr: 0.0010\n",
            "Epoch 6/20\n",
            "7/7 [==============================] - 31s 4s/step - loss: 1.6949 - accuracy: 0.4136 - val_loss: 1.5997 - val_accuracy: 0.4609 - lr: 0.0010\n",
            "Epoch 7/20\n",
            "7/7 [==============================] - 31s 4s/step - loss: 1.6465 - accuracy: 0.4315 - val_loss: 1.5957 - val_accuracy: 0.4568 - lr: 0.0010\n",
            "Epoch 8/20\n",
            "7/7 [==============================] - 31s 4s/step - loss: 1.6171 - accuracy: 0.4274 - val_loss: 1.5854 - val_accuracy: 0.4588 - lr: 0.0010\n",
            "Epoch 9/20\n",
            "7/7 [==============================] - 31s 4s/step - loss: 1.5785 - accuracy: 0.4495 - val_loss: 1.5298 - val_accuracy: 0.4835 - lr: 0.0010\n",
            "Epoch 10/20\n",
            "7/7 [==============================] - 31s 4s/step - loss: 1.5265 - accuracy: 0.4599 - val_loss: 1.5065 - val_accuracy: 0.4794 - lr: 0.0010\n",
            "Epoch 11/20\n",
            "7/7 [==============================] - 31s 4s/step - loss: 1.4870 - accuracy: 0.4681 - val_loss: 1.5252 - val_accuracy: 0.4856 - lr: 0.0010\n",
            "Epoch 12/20\n",
            "7/7 [==============================] - 33s 5s/step - loss: 1.4435 - accuracy: 0.4844 - val_loss: 1.4783 - val_accuracy: 0.4959 - lr: 0.0010\n",
            "Epoch 13/20\n",
            "7/7 [==============================] - 31s 4s/step - loss: 1.4273 - accuracy: 0.4878 - val_loss: 1.4355 - val_accuracy: 0.4979 - lr: 0.0010\n",
            "Epoch 14/20\n",
            "7/7 [==============================] - 31s 4s/step - loss: 1.3919 - accuracy: 0.5024 - val_loss: 1.3982 - val_accuracy: 0.4835 - lr: 0.0010\n",
            "Epoch 15/20\n",
            "7/7 [==============================] - 31s 4s/step - loss: 1.3629 - accuracy: 0.5131 - val_loss: 1.4293 - val_accuracy: 0.4979 - lr: 0.0010\n",
            "Epoch 16/20\n",
            "7/7 [==============================] - 31s 4s/step - loss: 1.3306 - accuracy: 0.5269 - val_loss: 1.3932 - val_accuracy: 0.4938 - lr: 0.0010\n",
            "Epoch 17/20\n",
            "7/7 [==============================] - 31s 4s/step - loss: 1.2952 - accuracy: 0.5338 - val_loss: 1.3633 - val_accuracy: 0.5185 - lr: 0.0010\n",
            "Epoch 18/20\n",
            "7/7 [==============================] - 31s 4s/step - loss: 1.2936 - accuracy: 0.5314 - val_loss: 1.3485 - val_accuracy: 0.5041 - lr: 0.0010\n",
            "Epoch 19/20\n",
            "7/7 [==============================] - 31s 4s/step - loss: 1.2437 - accuracy: 0.5479 - val_loss: 1.3151 - val_accuracy: 0.5350 - lr: 0.0010\n",
            "Epoch 20/20\n",
            "7/7 [==============================] - 31s 4s/step - loss: 1.2143 - accuracy: 0.5652 - val_loss: 1.3137 - val_accuracy: 0.5350 - lr: 0.0010\n",
            "--------------- end ---------------\n",
            "--------------- begin --------------- 11\n",
            "Epoch 1/20\n",
            "7/7 [==============================] - 32s 5s/step - loss: 2.7314 - accuracy: 0.1449 - val_loss: 2.4402 - val_accuracy: 0.1996 - lr: 0.0010\n",
            "Epoch 2/20\n",
            "7/7 [==============================] - 31s 4s/step - loss: 2.3116 - accuracy: 0.2573 - val_loss: 2.1673 - val_accuracy: 0.3313 - lr: 0.0010\n",
            "Epoch 3/20\n",
            "7/7 [==============================] - 32s 5s/step - loss: 2.0926 - accuracy: 0.3181 - val_loss: 1.9479 - val_accuracy: 0.3765 - lr: 0.0010\n",
            "Epoch 4/20\n",
            "7/7 [==============================] - 31s 4s/step - loss: 1.9460 - accuracy: 0.3566 - val_loss: 1.8560 - val_accuracy: 0.4012 - lr: 0.0010\n",
            "Epoch 5/20\n",
            "7/7 [==============================] - 31s 4s/step - loss: 1.8261 - accuracy: 0.3822 - val_loss: 1.7782 - val_accuracy: 0.3971 - lr: 0.0010\n",
            "Epoch 6/20\n",
            "7/7 [==============================] - 31s 4s/step - loss: 1.7455 - accuracy: 0.3948 - val_loss: 1.7350 - val_accuracy: 0.3951 - lr: 0.0010\n",
            "Epoch 7/20\n",
            "7/7 [==============================] - 36s 5s/step - loss: 1.6926 - accuracy: 0.4036 - val_loss: 1.6281 - val_accuracy: 0.4712 - lr: 0.0010\n",
            "Epoch 8/20\n",
            "7/7 [==============================] - 31s 4s/step - loss: 1.6356 - accuracy: 0.4198 - val_loss: 1.6329 - val_accuracy: 0.4568 - lr: 0.0010\n",
            "Epoch 9/20\n",
            "7/7 [==============================] - 31s 4s/step - loss: 1.5834 - accuracy: 0.4346 - val_loss: 1.5726 - val_accuracy: 0.4383 - lr: 0.0010\n",
            "Epoch 10/20\n",
            "7/7 [==============================] - 31s 4s/step - loss: 1.5381 - accuracy: 0.4578 - val_loss: 1.5208 - val_accuracy: 0.4938 - lr: 0.0010\n",
            "Epoch 11/20\n",
            "7/7 [==============================] - 31s 4s/step - loss: 1.4982 - accuracy: 0.4668 - val_loss: 1.5043 - val_accuracy: 0.5000 - lr: 0.0010\n",
            "Epoch 12/20\n",
            "7/7 [==============================] - 31s 4s/step - loss: 1.4726 - accuracy: 0.4809 - val_loss: 1.4889 - val_accuracy: 0.4918 - lr: 0.0010\n",
            "Epoch 13/20\n",
            "7/7 [==============================] - 31s 4s/step - loss: 1.4313 - accuracy: 0.4869 - val_loss: 1.4498 - val_accuracy: 0.4835 - lr: 0.0010\n",
            "Epoch 14/20\n",
            "7/7 [==============================] - 31s 4s/step - loss: 1.4031 - accuracy: 0.5028 - val_loss: 1.3864 - val_accuracy: 0.5247 - lr: 0.0010\n",
            "Epoch 15/20\n",
            "7/7 [==============================] - 31s 4s/step - loss: 1.3819 - accuracy: 0.5087 - val_loss: 1.3590 - val_accuracy: 0.5288 - lr: 0.0010\n",
            "Epoch 16/20\n",
            "7/7 [==============================] - 31s 4s/step - loss: 1.3404 - accuracy: 0.5175 - val_loss: 1.3325 - val_accuracy: 0.5165 - lr: 0.0010\n",
            "Epoch 17/20\n",
            "7/7 [==============================] - 31s 4s/step - loss: 1.3183 - accuracy: 0.5304 - val_loss: 1.3243 - val_accuracy: 0.5350 - lr: 0.0010\n",
            "Epoch 18/20\n",
            "7/7 [==============================] - 31s 4s/step - loss: 1.2867 - accuracy: 0.5373 - val_loss: 1.2690 - val_accuracy: 0.5597 - lr: 0.0010\n",
            "Epoch 19/20\n",
            "7/7 [==============================] - 31s 4s/step - loss: 1.2801 - accuracy: 0.5386 - val_loss: 1.2893 - val_accuracy: 0.5597 - lr: 0.0010\n",
            "Epoch 20/20\n",
            "7/7 [==============================] - 31s 4s/step - loss: 1.2632 - accuracy: 0.5398 - val_loss: 1.2534 - val_accuracy: 0.5576 - lr: 0.0010\n",
            "--------------- end ---------------\n",
            "--------------- begin --------------- 12\n",
            "Epoch 1/20\n",
            "7/7 [==============================] - 32s 5s/step - loss: 2.7437 - accuracy: 0.1347 - val_loss: 2.4735 - val_accuracy: 0.2387 - lr: 0.0010\n",
            "Epoch 2/20\n",
            "7/7 [==============================] - 31s 4s/step - loss: 2.3335 - accuracy: 0.2537 - val_loss: 2.1606 - val_accuracy: 0.2984 - lr: 0.0010\n",
            "Epoch 3/20\n",
            "7/7 [==============================] - 34s 5s/step - loss: 2.0858 - accuracy: 0.3210 - val_loss: 1.9303 - val_accuracy: 0.3765 - lr: 0.0010\n",
            "Epoch 4/20\n",
            "7/7 [==============================] - 31s 4s/step - loss: 1.9110 - accuracy: 0.3591 - val_loss: 1.7733 - val_accuracy: 0.3992 - lr: 0.0010\n",
            "Epoch 5/20\n",
            "7/7 [==============================] - 31s 4s/step - loss: 1.7907 - accuracy: 0.3828 - val_loss: 1.7414 - val_accuracy: 0.3827 - lr: 0.0010\n",
            "Epoch 6/20\n",
            "7/7 [==============================] - 31s 4s/step - loss: 1.7247 - accuracy: 0.4038 - val_loss: 1.6544 - val_accuracy: 0.4177 - lr: 0.0010\n",
            "Epoch 7/20\n",
            "7/7 [==============================] - 31s 4s/step - loss: 1.6657 - accuracy: 0.4164 - val_loss: 1.5962 - val_accuracy: 0.4218 - lr: 0.0010\n",
            "Epoch 8/20\n",
            "7/7 [==============================] - 31s 4s/step - loss: 1.6074 - accuracy: 0.4337 - val_loss: 1.5825 - val_accuracy: 0.4465 - lr: 0.0010\n",
            "Epoch 9/20\n",
            "7/7 [==============================] - 31s 4s/step - loss: 1.5818 - accuracy: 0.4393 - val_loss: 1.5287 - val_accuracy: 0.4568 - lr: 0.0010\n",
            "Epoch 10/20\n",
            "7/7 [==============================] - 31s 4s/step - loss: 1.5212 - accuracy: 0.4549 - val_loss: 1.4942 - val_accuracy: 0.4465 - lr: 0.0010\n",
            "Epoch 11/20\n",
            "7/7 [==============================] - 31s 4s/step - loss: 1.4642 - accuracy: 0.4828 - val_loss: 1.4267 - val_accuracy: 0.4877 - lr: 0.0010\n",
            "Epoch 12/20\n",
            "7/7 [==============================] - 31s 4s/step - loss: 1.4275 - accuracy: 0.4946 - val_loss: 1.4158 - val_accuracy: 0.4815 - lr: 0.0010\n",
            "Epoch 13/20\n",
            "7/7 [==============================] - 31s 4s/step - loss: 1.4138 - accuracy: 0.4969 - val_loss: 1.4018 - val_accuracy: 0.5021 - lr: 0.0010\n",
            "Epoch 14/20\n",
            "7/7 [==============================] - 31s 4s/step - loss: 1.3792 - accuracy: 0.5031 - val_loss: 1.3909 - val_accuracy: 0.4918 - lr: 0.0010\n",
            "Epoch 15/20\n",
            "7/7 [==============================] - 31s 4s/step - loss: 1.3467 - accuracy: 0.5143 - val_loss: 1.4016 - val_accuracy: 0.4897 - lr: 0.0010\n",
            "Epoch 16/20\n",
            "7/7 [==============================] - 31s 4s/step - loss: 1.3231 - accuracy: 0.5269 - val_loss: 1.3069 - val_accuracy: 0.5123 - lr: 0.0010\n",
            "Epoch 17/20\n",
            "7/7 [==============================] - 31s 4s/step - loss: 1.2779 - accuracy: 0.5400 - val_loss: 1.2982 - val_accuracy: 0.5041 - lr: 0.0010\n",
            "Epoch 18/20\n",
            "7/7 [==============================] - 31s 4s/step - loss: 1.2504 - accuracy: 0.5455 - val_loss: 1.2652 - val_accuracy: 0.5185 - lr: 0.0010\n",
            "Epoch 19/20\n",
            "7/7 [==============================] - 31s 4s/step - loss: 1.2275 - accuracy: 0.5504 - val_loss: 1.2483 - val_accuracy: 0.5576 - lr: 0.0010\n",
            "Epoch 20/20\n",
            "7/7 [==============================] - 34s 5s/step - loss: 1.2042 - accuracy: 0.5607 - val_loss: 1.2911 - val_accuracy: 0.5103 - lr: 0.0010\n",
            "--------------- end ---------------\n",
            "--------------- begin --------------- 13\n",
            "Epoch 1/20\n",
            "7/7 [==============================] - 32s 5s/step - loss: 2.7894 - accuracy: 0.1362 - val_loss: 2.5051 - val_accuracy: 0.2243 - lr: 0.0010\n",
            "Epoch 2/20\n",
            "7/7 [==============================] - 31s 4s/step - loss: 2.4034 - accuracy: 0.2461 - val_loss: 2.1812 - val_accuracy: 0.3169 - lr: 0.0010\n",
            "Epoch 3/20\n",
            "7/7 [==============================] - 31s 4s/step - loss: 2.1561 - accuracy: 0.3069 - val_loss: 1.9928 - val_accuracy: 0.3374 - lr: 0.0010\n",
            "Epoch 4/20\n",
            "7/7 [==============================] - 31s 4s/step - loss: 1.9632 - accuracy: 0.3493 - val_loss: 1.8382 - val_accuracy: 0.3868 - lr: 0.0010\n",
            "Epoch 5/20\n",
            "7/7 [==============================] - 31s 4s/step - loss: 1.8410 - accuracy: 0.3698 - val_loss: 1.7402 - val_accuracy: 0.3909 - lr: 0.0010\n",
            "Epoch 6/20\n",
            "7/7 [==============================] - 31s 4s/step - loss: 1.7772 - accuracy: 0.3851 - val_loss: 1.6673 - val_accuracy: 0.4300 - lr: 0.0010\n",
            "Epoch 7/20\n",
            "7/7 [==============================] - 31s 4s/step - loss: 1.6891 - accuracy: 0.4089 - val_loss: 1.6238 - val_accuracy: 0.4444 - lr: 0.0010\n",
            "Epoch 8/20\n",
            "7/7 [==============================] - 31s 4s/step - loss: 1.6254 - accuracy: 0.4342 - val_loss: 1.5447 - val_accuracy: 0.4527 - lr: 0.0010\n",
            "Epoch 9/20\n",
            "7/7 [==============================] - 31s 4s/step - loss: 1.5826 - accuracy: 0.4492 - val_loss: 1.5553 - val_accuracy: 0.4712 - lr: 0.0010\n",
            "Epoch 10/20\n",
            "7/7 [==============================] - 31s 4s/step - loss: 1.5558 - accuracy: 0.4592 - val_loss: 1.5259 - val_accuracy: 0.4856 - lr: 0.0010\n",
            "Epoch 11/20\n",
            "7/7 [==============================] - 31s 4s/step - loss: 1.5421 - accuracy: 0.4618 - val_loss: 1.4886 - val_accuracy: 0.4506 - lr: 0.0010\n",
            "Epoch 12/20\n",
            "7/7 [==============================] - 31s 4s/step - loss: 1.4989 - accuracy: 0.4684 - val_loss: 1.4685 - val_accuracy: 0.5165 - lr: 0.0010\n",
            "Epoch 13/20\n",
            "7/7 [==============================] - 31s 4s/step - loss: 1.4513 - accuracy: 0.4816 - val_loss: 1.4429 - val_accuracy: 0.4794 - lr: 0.0010\n",
            "Epoch 14/20\n",
            "7/7 [==============================] - 31s 4s/step - loss: 1.4353 - accuracy: 0.4915 - val_loss: 1.4197 - val_accuracy: 0.5041 - lr: 0.0010\n",
            "Epoch 15/20\n",
            "7/7 [==============================] - 33s 5s/step - loss: 1.3937 - accuracy: 0.5078 - val_loss: 1.3981 - val_accuracy: 0.4979 - lr: 0.0010\n",
            "Epoch 16/20\n",
            "7/7 [==============================] - 31s 4s/step - loss: 1.3589 - accuracy: 0.5156 - val_loss: 1.3739 - val_accuracy: 0.5226 - lr: 0.0010\n",
            "Epoch 17/20\n",
            "7/7 [==============================] - 31s 4s/step - loss: 1.3459 - accuracy: 0.5184 - val_loss: 1.3533 - val_accuracy: 0.5206 - lr: 0.0010\n",
            "Epoch 18/20\n",
            "7/7 [==============================] - 31s 4s/step - loss: 1.2869 - accuracy: 0.5419 - val_loss: 1.3879 - val_accuracy: 0.5144 - lr: 0.0010\n",
            "Epoch 19/20\n",
            "7/7 [==============================] - 31s 4s/step - loss: 1.2980 - accuracy: 0.5357 - val_loss: 1.3476 - val_accuracy: 0.5329 - lr: 0.0010\n",
            "Epoch 20/20\n",
            "7/7 [==============================] - 31s 4s/step - loss: 1.2742 - accuracy: 0.5455 - val_loss: 1.3505 - val_accuracy: 0.5267 - lr: 0.0010\n",
            "--------------- end ---------------\n",
            "--------------- begin --------------- 14\n",
            "Epoch 1/20\n",
            "7/7 [==============================] - 32s 5s/step - loss: 2.7521 - accuracy: 0.1364 - val_loss: 2.4234 - val_accuracy: 0.2160 - lr: 0.0010\n",
            "Epoch 2/20\n",
            "7/7 [==============================] - 32s 5s/step - loss: 2.3766 - accuracy: 0.2308 - val_loss: 2.1905 - val_accuracy: 0.3210 - lr: 0.0010\n",
            "Epoch 3/20\n",
            "7/7 [==============================] - 31s 4s/step - loss: 2.1701 - accuracy: 0.2881 - val_loss: 1.9942 - val_accuracy: 0.3663 - lr: 0.0010\n",
            "Epoch 4/20\n",
            "7/7 [==============================] - 31s 4s/step - loss: 1.9747 - accuracy: 0.3416 - val_loss: 1.8236 - val_accuracy: 0.3827 - lr: 0.0010\n",
            "Epoch 5/20\n",
            "7/7 [==============================] - 31s 4s/step - loss: 1.8341 - accuracy: 0.3719 - val_loss: 1.6920 - val_accuracy: 0.4465 - lr: 0.0010\n",
            "Epoch 6/20\n",
            "7/7 [==============================] - 31s 4s/step - loss: 1.7606 - accuracy: 0.3955 - val_loss: 1.6467 - val_accuracy: 0.4342 - lr: 0.0010\n",
            "Epoch 7/20\n",
            "7/7 [==============================] - 31s 4s/step - loss: 1.6888 - accuracy: 0.4143 - val_loss: 1.5960 - val_accuracy: 0.4486 - lr: 0.0010\n",
            "Epoch 8/20\n",
            "7/7 [==============================] - 31s 4s/step - loss: 1.6314 - accuracy: 0.4274 - val_loss: 1.5370 - val_accuracy: 0.4733 - lr: 0.0010\n",
            "Epoch 9/20\n",
            "7/7 [==============================] - 31s 4s/step - loss: 1.5834 - accuracy: 0.4461 - val_loss: 1.5202 - val_accuracy: 0.4671 - lr: 0.0010\n",
            "Epoch 10/20\n",
            "7/7 [==============================] - 31s 4s/step - loss: 1.5565 - accuracy: 0.4558 - val_loss: 1.4943 - val_accuracy: 0.4506 - lr: 0.0010\n",
            "Epoch 11/20\n",
            "7/7 [==============================] - 34s 5s/step - loss: 1.5293 - accuracy: 0.4556 - val_loss: 1.4813 - val_accuracy: 0.4650 - lr: 0.0010\n",
            "Epoch 12/20\n",
            "7/7 [==============================] - 31s 4s/step - loss: 1.4784 - accuracy: 0.4686 - val_loss: 1.4760 - val_accuracy: 0.4691 - lr: 0.0010\n",
            "Epoch 13/20\n",
            "7/7 [==============================] - 31s 4s/step - loss: 1.4521 - accuracy: 0.4796 - val_loss: 1.4123 - val_accuracy: 0.4959 - lr: 0.0010\n",
            "Epoch 14/20\n",
            "7/7 [==============================] - 31s 4s/step - loss: 1.4183 - accuracy: 0.4953 - val_loss: 1.3676 - val_accuracy: 0.5185 - lr: 0.0010\n",
            "Epoch 15/20\n",
            "7/7 [==============================] - 31s 4s/step - loss: 1.4043 - accuracy: 0.4927 - val_loss: 1.3859 - val_accuracy: 0.5350 - lr: 0.0010\n",
            "Epoch 16/20\n",
            "7/7 [==============================] - 31s 4s/step - loss: 1.3735 - accuracy: 0.5043 - val_loss: 1.3212 - val_accuracy: 0.5329 - lr: 0.0010\n",
            "Epoch 17/20\n",
            "7/7 [==============================] - 31s 4s/step - loss: 1.3481 - accuracy: 0.5145 - val_loss: 1.3383 - val_accuracy: 0.5062 - lr: 0.0010\n",
            "Epoch 18/20\n",
            "7/7 [==============================] - 31s 4s/step - loss: 1.3335 - accuracy: 0.5228 - val_loss: 1.2928 - val_accuracy: 0.5453 - lr: 0.0010\n",
            "Epoch 19/20\n",
            "7/7 [==============================] - 31s 4s/step - loss: 1.2827 - accuracy: 0.5348 - val_loss: 1.2540 - val_accuracy: 0.5514 - lr: 0.0010\n",
            "Epoch 20/20\n",
            "7/7 [==============================] - 31s 4s/step - loss: 1.2600 - accuracy: 0.5472 - val_loss: 1.2495 - val_accuracy: 0.5473 - lr: 0.0010\n",
            "--------------- end ---------------\n"
          ],
          "name": "stdout"
        }
      ]
    },
    {
      "cell_type": "code",
      "metadata": {
        "id": "QrS0eWdmJSIF"
      },
      "source": [
        ""
      ],
      "execution_count": null,
      "outputs": []
    },
    {
      "cell_type": "markdown",
      "metadata": {
        "id": "Pw855QVGxKvs"
      },
      "source": [
        "# 验证和输出结果"
      ]
    },
    {
      "cell_type": "code",
      "metadata": {
        "id": "wsqmFo5lxsAu"
      },
      "source": [
        "def accuracy(y_true, y_pred):\n",
        "    return tf.keras.metrics.sparse_top_k_categorical_accuracy(y_true, y_pred, k=1)"
      ],
      "execution_count": null,
      "outputs": []
    },
    {
      "cell_type": "code",
      "metadata": {
        "id": "VgiK07JgEJeC"
      },
      "source": [
        "def acc_combo(y, y_pred):\n",
        "    # 数值ID与行为编码的对应关系\n",
        "    mapping = {0: 'A_0', 1: 'A_1', 2: 'A_2', 3: 'A_3', \n",
        "        4: 'D_4', 5: 'A_5', 6: 'B_1',7: 'B_5', \n",
        "        8: 'B_2', 9: 'B_3', 10: 'B_0', 11: 'A_6', \n",
        "        12: 'C_1', 13: 'C_3', 14: 'C_0', 15: 'B_6', \n",
        "        16: 'C_2', 17: 'C_5', 18: 'C_6'}\n",
        "    # 将行为ID转为编码\n",
        "    code_y, code_y_pred = mapping[y], mapping[y_pred]\n",
        "    if code_y == code_y_pred: #编码完全相同得分1.0\n",
        "        return 1.0\n",
        "    elif code_y.split(\"_\")[0] == code_y_pred.split(\"_\")[0]: #编码仅字母部分相同得分1.0/7\n",
        "        return 1.0/7\n",
        "    elif code_y.split(\"_\")[1] == code_y_pred.split(\"_\")[1]: #编码仅数字部分相同得分1.0/3\n",
        "        return 1.0/3\n",
        "    else:\n",
        "        return 0.0"
      ],
      "execution_count": null,
      "outputs": []
    },
    {
      "cell_type": "code",
      "metadata": {
        "id": "LZQRlIqOxKvt",
        "colab": {
          "base_uri": "https://localhost:8080/",
          "height": 51
        },
        "outputId": "7d8f2202-b3c8-4c86-8840-afb8831d0cc3"
      },
      "source": [
        "pred_y = np.argmax(df_train_stacking.values, axis=1)\n",
        "\n",
        "\n",
        "acc_scores = round(accuracy_score(y, pred_y), 5)\n",
        "acc_combo_scores = round(sum(acc_combo(y_true, y_pred) for y_true, y_pred in zip(y, pred_y)) / len(list(y)),5)\n",
        "\n",
        "print('--------')\n",
        "print(' acc : ', acc_scores, 'acc_combo : ', acc_combo_scores)\n",
        "\n",
        "df_submit.behavior_id = np.argmax(proba_t, axis=1)\n",
        "df_submit.to_csv('/content/drive/My Drive/Colab Notebooks/sensor_class/submit_lstm_%.5f_%.5f.csv' % (acc_scores, acc_combo_scores), index=False)"
      ],
      "execution_count": null,
      "outputs": [
        {
          "output_type": "stream",
          "text": [
            "--------\n",
            " acc :  0.53593 acc_combo :  0.6017\n"
          ],
          "name": "stdout"
        }
      ]
    },
    {
      "cell_type": "code",
      "metadata": {
        "id": "pZNgeb3aGXIx",
        "colab": {
          "base_uri": "https://localhost:8080/",
          "height": 542
        },
        "outputId": "f06cd792-e3d1-475b-8189-9a0e6e57aaba"
      },
      "source": [
        "import matplotlib.pyplot as plt\n",
        "\n",
        "\n",
        "def plot_graphs(history, string):\n",
        "  plt.plot(history.history[string])\n",
        "  plt.plot(history.history['val_'+string])\n",
        "  plt.xlabel(\"Epochs\")\n",
        "  plt.ylabel(string)\n",
        "  plt.legend([string, 'val_'+string])\n",
        "  plt.show()\n",
        "  \n",
        "plot_graphs(history, \"accuracy\")\n",
        "plot_graphs(history, \"loss\")"
      ],
      "execution_count": null,
      "outputs": [
        {
          "output_type": "display_data",
          "data": {
            "image/png": "[encoded data removed]",
            "text/plain": [
              "<Figure size 432x288 with 1 Axes>"
            ]
          },
          "metadata": {
            "tags": [],
            "needs_background": "light"
          }
        },
        {
          "output_type": "display_data",
          "data": {
            "image/png": "[encoded data removed]",
            "text/plain": [
              "<Figure size 432x288 with 1 Axes>"
            ]
          },
          "metadata": {
            "tags": [],
            "needs_background": "light"
          }
        }
      ]
    }
  ]
}